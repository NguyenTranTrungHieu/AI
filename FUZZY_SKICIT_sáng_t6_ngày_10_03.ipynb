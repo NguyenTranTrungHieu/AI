{
  "nbformat": 4,
  "nbformat_minor": 0,
  "metadata": {
    "colab": {
      "provenance": []
    },
    "kernelspec": {
      "name": "python3",
      "display_name": "Python 3"
    },
    "language_info": {
      "name": "python"
    }
  },
  "cells": [
    {
      "cell_type": "code",
      "execution_count": 1,
      "metadata": {
        "colab": {
          "base_uri": "https://localhost:8080/"
        },
        "id": "Hgy8l9-iMowJ",
        "outputId": "2d248805-b056-4aee-e7be-297b27f57ef4"
      },
      "outputs": [
        {
          "output_type": "stream",
          "name": "stdout",
          "text": [
            "Looking in indexes: https://pypi.org/simple, https://us-python.pkg.dev/colab-wheels/public/simple/\n",
            "Collecting scikit-fuzzy\n",
            "  Downloading scikit-fuzzy-0.4.2.tar.gz (993 kB)\n",
            "\u001b[2K     \u001b[90m━━━━━━━━━━━━━━━━━━━━━━━━━━━━━━━━━━━━━━\u001b[0m \u001b[32m994.0/994.0 KB\u001b[0m \u001b[31m17.3 MB/s\u001b[0m eta \u001b[36m0:00:00\u001b[0m\n",
            "\u001b[?25h  Preparing metadata (setup.py) ... \u001b[?25l\u001b[?25hdone\n",
            "Requirement already satisfied: numpy>=1.6.0 in /usr/local/lib/python3.9/dist-packages (from scikit-fuzzy) (1.22.4)\n",
            "Requirement already satisfied: scipy>=0.9.0 in /usr/local/lib/python3.9/dist-packages (from scikit-fuzzy) (1.10.1)\n",
            "Requirement already satisfied: networkx>=1.9.0 in /usr/local/lib/python3.9/dist-packages (from scikit-fuzzy) (3.0)\n",
            "Building wheels for collected packages: scikit-fuzzy\n",
            "  Building wheel for scikit-fuzzy (setup.py) ... \u001b[?25l\u001b[?25hdone\n",
            "  Created wheel for scikit-fuzzy: filename=scikit_fuzzy-0.4.2-py3-none-any.whl size=894088 sha256=760ca1d6cf889766570e322e9f91cf497a9d509ab30573aecd9f421c9b521c7b\n",
            "  Stored in directory: /root/.cache/pip/wheels/32/2c/a1/a90a7d7dd8448ec029f298a61f3490275e99b17aa348be675c\n",
            "Successfully built scikit-fuzzy\n",
            "Installing collected packages: scikit-fuzzy\n",
            "Successfully installed scikit-fuzzy-0.4.2\n"
          ]
        }
      ],
      "source": [
        "!pip install -U scikit-fuzzy"
      ]
    },
    {
      "cell_type": "code",
      "source": [
        "import numpy as np\n",
        "import skfuzzy as fuzz\n",
        "from skfuzzy import control as ctrl\n"
      ],
      "metadata": {
        "id": "W3ARn3BHMvbH"
      },
      "execution_count": 2,
      "outputs": []
    },
    {
      "cell_type": "code",
      "source": [
        "#xác định đầu vào \n",
        "service = ctrl.Antecedent(np.arange(0, 11, 1), 'service')\n",
        "quality = ctrl.Antecedent(np.arange(0, 11, 1), 'quality')\n",
        "tip = ctrl.Consequent(np.arange(0, 26, 1), 'tip')"
      ],
      "metadata": {
        "id": "69UB2t8VMypM"
      },
      "execution_count": 3,
      "outputs": []
    },
    {
      "cell_type": "code",
      "source": [
        "#fuzzy sets \n",
        "service['poor'] = fuzz.trimf(service.universe, [0, 0, 5])\n",
        "service['acceptable'] = fuzz.trimf(service.universe, [0, 5, 10])\n",
        "service['amazing'] = fuzz.trimf(service.universe, [5, 10, 10])"
      ],
      "metadata": {
        "id": "E-F9imv4M8Vt"
      },
      "execution_count": 4,
      "outputs": []
    },
    {
      "cell_type": "code",
      "source": [
        "quality['bad'] = fuzz.trimf(quality.universe, [0, 0, 5])\n",
        "quality['decent'] = fuzz.trimf(quality.universe, [0, 5, 10])\n",
        "quality['great'] = fuzz.trimf(quality.universe, [5, 10, 10])"
      ],
      "metadata": {
        "id": "zlzOmY58NGo2"
      },
      "execution_count": 5,
      "outputs": []
    },
    {
      "cell_type": "code",
      "source": [
        "tip['low'] = fuzz.trimf(tip.universe, [0, 0, 13])\n",
        "tip['medium'] = fuzz.trimf(tip.universe, [0, 13, 25])\n",
        "tip['high'] = fuzz.trimf(tip.universe, [13, 25, 25])"
      ],
      "metadata": {
        "id": "gCF1wmyJNPMO"
      },
      "execution_count": 6,
      "outputs": []
    },
    {
      "cell_type": "code",
      "source": [
        "#xác định quy tắc \n",
        "rule1 = ctrl.Rule(service['amazing'] | quality['great'], tip['high'])\n",
        "rule2 = ctrl.Rule(service['acceptable'], tip['medium'])\n",
        "rule3 = ctrl.Rule(service['poor'] & quality['bad'], tip['low'])"
      ],
      "metadata": {
        "id": "msUqPIUTNVbm"
      },
      "execution_count": 7,
      "outputs": []
    },
    {
      "cell_type": "code",
      "source": [
        "#hệ thống điều khiển \n",
        "tipping_ctrl = ctrl.ControlSystem([rule1, rule2, rule3])"
      ],
      "metadata": {
        "id": "u83Rx8E_NaHm"
      },
      "execution_count": 8,
      "outputs": []
    },
    {
      "cell_type": "code",
      "source": [
        "#tạo mô phỏng \n",
        "tipping = ctrl.ControlSystemSimulation(tipping_ctrl)"
      ],
      "metadata": {
        "id": "vY5EfX84Nnc-"
      },
      "execution_count": 9,
      "outputs": []
    },
    {
      "cell_type": "code",
      "source": [
        "#giá trị đầu vào \n",
        "tipping.input['service'] = 9.8\n",
        "tipping.input['quality'] = 6.5\n"
      ],
      "metadata": {
        "id": "e76vScyTNugH"
      },
      "execution_count": 10,
      "outputs": []
    },
    {
      "cell_type": "code",
      "source": [
        "#kết quả \n",
        "tipping.compute()"
      ],
      "metadata": {
        "id": "CXyGhLZUN2he"
      },
      "execution_count": 11,
      "outputs": []
    },
    {
      "cell_type": "code",
      "source": [
        "#in đầu ra \n",
        "print(\"Recommended tip:\", tipping.output['tip'], \"%\")"
      ],
      "metadata": {
        "colab": {
          "base_uri": "https://localhost:8080/"
        },
        "id": "Xh9RS_b7N9iP",
        "outputId": "f714210e-787c-46b4-bde1-732922b7ee45"
      },
      "execution_count": 12,
      "outputs": [
        {
          "output_type": "stream",
          "name": "stdout",
          "text": [
            "Recommended tip: 19.847607361963192 %\n"
          ]
        }
      ]
    }
  ]
}