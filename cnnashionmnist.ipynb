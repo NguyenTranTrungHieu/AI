{
  "nbformat": 4,
  "nbformat_minor": 0,
  "metadata": {
    "colab": {
      "provenance": []
    },
    "kernelspec": {
      "name": "python3",
      "display_name": "Python 3"
    },
    "language_info": {
      "name": "python"
    }
  },
  "cells": [
    {
      "cell_type": "code",
      "execution_count": 1,
      "metadata": {
        "colab": {
          "base_uri": "https://localhost:8080/"
        },
        "id": "fxCDATvY423x",
        "outputId": "e6573e87-beba-4d7e-850e-5360e7573437"
      },
      "outputs": [
        {
          "output_type": "stream",
          "name": "stdout",
          "text": [
            "Downloading data from https://storage.googleapis.com/tensorflow/tf-keras-datasets/train-labels-idx1-ubyte.gz\n",
            "29515/29515 [==============================] - 0s 0us/step\n",
            "Downloading data from https://storage.googleapis.com/tensorflow/tf-keras-datasets/train-images-idx3-ubyte.gz\n",
            "26421880/26421880 [==============================] - 0s 0us/step\n",
            "Downloading data from https://storage.googleapis.com/tensorflow/tf-keras-datasets/t10k-labels-idx1-ubyte.gz\n",
            "5148/5148 [==============================] - 0s 0us/step\n",
            "Downloading data from https://storage.googleapis.com/tensorflow/tf-keras-datasets/t10k-images-idx3-ubyte.gz\n",
            "4422102/4422102 [==============================] - 0s 0us/step\n"
          ]
        }
      ],
      "source": [
        "from keras.datasets import fashion_mnist\n",
        "(train_X, train_Y), (test_X, test_Y ) = fashion_mnist.load_data()"
      ]
    },
    {
      "cell_type": "code",
      "source": [
        "test_X.shape\n",
        "     \n"
      ],
      "metadata": {
        "colab": {
          "base_uri": "https://localhost:8080/"
        },
        "id": "9SKHqjd29Hm3",
        "outputId": "caa4be0b-9fdc-4cd4-9126-6a96998f1120"
      },
      "execution_count": 3,
      "outputs": [
        {
          "output_type": "execute_result",
          "data": {
            "text/plain": [
              "(10000, 28, 28)"
            ]
          },
          "metadata": {},
          "execution_count": 3
        }
      ]
    },
    {
      "cell_type": "code",
      "source": [
        "import matplotlib.pyplot as plt\n",
        "plt.figure(figsize = [20,20])\n",
        "plt.subplot(121)\n",
        "plt.imshow(train_X[0], cmap='gray')\n",
        "plt.title('So: {}'.format(train_Y[0]))\n",
        "plt.subplot(132)\n",
        "plt.imshow(train_X[100], cmap='gray')\n",
        "plt.title('So: {}'.format(train_Y[100]))"
      ],
      "metadata": {
        "colab": {
          "base_uri": "https://localhost:8080/",
          "height": 590
        },
        "id": "yyJgnI-H9iZH",
        "outputId": "89ddf0b3-da3e-4743-9b7c-18580b5f1a13"
      },
      "execution_count": 15,
      "outputs": [
        {
          "output_type": "stream",
          "name": "stderr",
          "text": [
            "<ipython-input-15-1350083a0cc9>:6: MatplotlibDeprecationWarning: Auto-removal of overlapping axes is deprecated since 3.6 and will be removed two minor releases later; explicitly call ax.remove() as needed.\n",
            "  plt.subplot(132)\n"
          ]
        },
        {
          "output_type": "execute_result",
          "data": {
            "text/plain": [
              "Text(0.5, 1.0, 'So: 8')"
            ]
          },
          "metadata": {},
          "execution_count": 15
        },
        {
          "output_type": "display_data",
          "data": {
            "text/plain": [
              "<Figure size 2000x2000 with 1 Axes>"
            ],
            "image/png": "[encoded data removed]"
          },
          "metadata": {}
        }
      ]
    },
    {
      "cell_type": "code",
      "source": [
        "train_X = train_X.reshape((60000, 28, 28, 1))\n",
        "test_X = test_X.reshape((10000, 28, 28, 1))\n",
        "train_X.shape, test_X.shape\n",
        "train_X = train_X.astype('float32')\n",
        "train_X = train_X/255\n",
        "test_X = test_X.astype('float32')\n",
        "test_X = test_X/255"
      ],
      "metadata": {
        "id": "5oLYprLd-qfn"
      },
      "execution_count": 16,
      "outputs": []
    },
    {
      "cell_type": "code",
      "source": [
        "from keras.utils import to_categorical\n",
        "train_Y = to_categorical(train_Y)\n",
        "test_Y = to_categorical(test_Y)"
      ],
      "metadata": {
        "id": "le4tJIid-41l"
      },
      "execution_count": 17,
      "outputs": []
    },
    {
      "cell_type": "code",
      "source": [
        "\n",
        "from keras.models import Sequential,Model\n",
        "from keras.layers import Dense,Flatten,Dropout,Conv2D,MaxPooling2D,Normalization,Input\n",
        "from keras.optimizers import Adam\n",
        "from keras import losses\n",
        "loss = losses\n",
        "batch_size = 64\n",
        "epochs = 20\n",
        "classes = 10"
      ],
      "metadata": {
        "id": "iYkS6mgN_ApF"
      },
      "execution_count": 31,
      "outputs": []
    },
    {
      "cell_type": "code",
      "source": [
        "from keras.layers import LeakyReLU\n",
        "model = Sequential()\n",
        "model.add(Conv2D(32, kernel_size = (3,3), activation = 'linear', input_shape=(28,28,1), padding= 'same'))\n",
        "model.add(LeakyReLU(alpha = 0.1))"
      ],
      "metadata": {
        "id": "PdnjznrC_Eml"
      },
      "execution_count": 30,
      "outputs": []
    },
    {
      "cell_type": "code",
      "source": [
        "model.add(MaxPooling2D((2,2), padding = 'same'))\n",
        "model.add(Conv2D(64, (3,3), activation = 'linear', padding = 'same'))\n",
        "model.add(LeakyReLU(alpha = 0.1))\n",
        "\n",
        "model.add(MaxPooling2D((2,2), padding = 'same'))\n",
        "model.add(Conv2D(128, (3,3), activation = 'linear', padding = 'same'))\n",
        "model.add(LeakyReLU(alpha = 0.1))"
      ],
      "metadata": {
        "id": "xP9cwPfcAA4G"
      },
      "execution_count": 32,
      "outputs": []
    },
    {
      "cell_type": "code",
      "source": [
        "#Đưa vào ANN, bộ ANN để phân loại:\n",
        "from keras.losses import categorical_crossentropy\n",
        "model.add(Flatten())\n",
        "model.add(Dense(128, activation = 'linear'))\n",
        "model.add(LeakyReLU(alpha = 0.3))\n",
        "model.add(Dense(classes, activation = 'softmax'))\n",
        "\n",
        "#Compile:\n",
        "model.compile( loss =loss.categorical_crossentropy ,optimizer= \"adam\", metrics= ['accuracy'])\n",
        "model.summary()\n",
        "train = model.fit(train_X, train_Y, batch_size= batch_size, epochs= epochs, verbose= 1)\n",
        "     "
      ],
      "metadata": {
        "colab": {
          "base_uri": "https://localhost:8080/"
        },
        "id": "ApCRRYU6AuE8",
        "outputId": "46be66e2-aec1-480f-b842-a6153db620a5"
      },
      "execution_count": 33,
      "outputs": [
        {
          "output_type": "stream",
          "name": "stdout",
          "text": [
            "Model: \"sequential_1\"\n",
            "_________________________________________________________________\n",
            " Layer (type)                Output Shape              Param #   \n",
            "=================================================================\n",
            " conv2d_5 (Conv2D)           (None, 28, 28, 32)        320       \n",
            "                                                                 \n",
            " leaky_re_lu_7 (LeakyReLU)   (None, 28, 28, 32)        0         \n",
            "                                                                 \n",
            " max_pooling2d_10 (MaxPoolin  (None, 14, 14, 32)       0         \n",
            " g2D)                                                            \n",
            "                                                                 \n",
            " conv2d_6 (Conv2D)           (None, 14, 14, 64)        18496     \n",
            "                                                                 \n",
            " leaky_re_lu_8 (LeakyReLU)   (None, 14, 14, 64)        0         \n",
            "                                                                 \n",
            " max_pooling2d_11 (MaxPoolin  (None, 7, 7, 64)         0         \n",
            " g2D)                                                            \n",
            "                                                                 \n",
            " conv2d_7 (Conv2D)           (None, 7, 7, 128)         73856     \n",
            "                                                                 \n",
            " leaky_re_lu_9 (LeakyReLU)   (None, 7, 7, 128)         0         \n",
            "                                                                 \n",
            " flatten_2 (Flatten)         (None, 6272)              0         \n",
            "                                                                 \n",
            " dense_4 (Dense)             (None, 128)               802944    \n",
            "                                                                 \n",
            " leaky_re_lu_10 (LeakyReLU)  (None, 128)               0         \n",
            "                                                                 \n",
            " dense_5 (Dense)             (None, 10)                1290      \n",
            "                                                                 \n",
            "=================================================================\n",
            "Total params: 896,906\n",
            "Trainable params: 896,906\n",
            "Non-trainable params: 0\n",
            "_________________________________________________________________\n",
            "Epoch 1/20\n",
            "938/938 [==============================] - 115s 121ms/step - loss: 0.3993 - accuracy: 0.8569\n",
            "Epoch 2/20\n",
            "938/938 [==============================] - 113s 120ms/step - loss: 0.2558 - accuracy: 0.9070\n",
            "Epoch 3/20\n",
            "938/938 [==============================] - 113s 120ms/step - loss: 0.2162 - accuracy: 0.9206\n",
            "Epoch 4/20\n",
            "938/938 [==============================] - 114s 121ms/step - loss: 0.1892 - accuracy: 0.9303\n",
            "Epoch 5/20\n",
            "938/938 [==============================] - 113s 121ms/step - loss: 0.1644 - accuracy: 0.9389\n",
            "Epoch 6/20\n",
            "938/938 [==============================] - 112s 119ms/step - loss: 0.1461 - accuracy: 0.9453\n",
            "Epoch 7/20\n",
            "938/938 [==============================] - 113s 121ms/step - loss: 0.1245 - accuracy: 0.9535\n",
            "Epoch 8/20\n",
            "938/938 [==============================] - 113s 121ms/step - loss: 0.1094 - accuracy: 0.9585\n",
            "Epoch 9/20\n",
            "938/938 [==============================] - 111s 118ms/step - loss: 0.0961 - accuracy: 0.9638\n",
            "Epoch 10/20\n",
            "938/938 [==============================] - 110s 118ms/step - loss: 0.0808 - accuracy: 0.9701\n",
            "Epoch 11/20\n",
            "938/938 [==============================] - 110s 118ms/step - loss: 0.0746 - accuracy: 0.9725\n",
            "Epoch 12/20\n",
            "938/938 [==============================] - 110s 118ms/step - loss: 0.0626 - accuracy: 0.9772\n",
            "Epoch 13/20\n",
            "938/938 [==============================] - 111s 119ms/step - loss: 0.0591 - accuracy: 0.9779\n",
            "Epoch 14/20\n",
            "938/938 [==============================] - 113s 120ms/step - loss: 0.0502 - accuracy: 0.9812\n",
            "Epoch 15/20\n",
            "938/938 [==============================] - 110s 118ms/step - loss: 0.0488 - accuracy: 0.9826\n",
            "Epoch 16/20\n",
            "938/938 [==============================] - 110s 117ms/step - loss: 0.0440 - accuracy: 0.9841\n",
            "Epoch 17/20\n",
            "938/938 [==============================] - 111s 118ms/step - loss: 0.0431 - accuracy: 0.9838\n",
            "Epoch 18/20\n",
            "938/938 [==============================] - 113s 120ms/step - loss: 0.0387 - accuracy: 0.9858\n",
            "Epoch 19/20\n",
            "938/938 [==============================] - 111s 118ms/step - loss: 0.0364 - accuracy: 0.9866\n",
            "Epoch 20/20\n",
            "938/938 [==============================] - 111s 118ms/step - loss: 0.0338 - accuracy: 0.9877\n"
          ]
        }
      ]
    },
    {
      "cell_type": "code",
      "source": [
        "eval = model.evaluate(test_X, test_Y, verbose=0)\n",
        "print('Test loss:', eval[0])\n",
        "print('Test accunacy', eval[1])\n",
        "accuracy = train.history['accuracy']\n",
        "loss = train.history['loss']\n",
        "epochs = range(len(accuracy))\n",
        "plt.plot(epochs, accuracy,'bo', label = 'Traning Accuracy')\n",
        "plt.plot(epochs, loss, 'b', label= 'Test Accuracy')\n",
        "plt.title('Training & Testing Accuracy')\n"
      ],
      "metadata": {
        "colab": {
          "base_uri": "https://localhost:8080/",
          "height": 504
        },
        "id": "-b19fJU3AR9l",
        "outputId": "d605b976-ac48-48b6-f294-3c20a1190549"
      },
      "execution_count": 34,
      "outputs": [
        {
          "output_type": "stream",
          "name": "stdout",
          "text": [
            "Test loss: 0.4707886576652527\n",
            "Test accunacy 0.916100025177002\n"
          ]
        },
        {
          "output_type": "execute_result",
          "data": {
            "text/plain": [
              "Text(0.5, 1.0, 'Training & Testing Accuracy')"
            ]
          },
          "metadata": {},
          "execution_count": 34
        },
        {
          "output_type": "display_data",
          "data": {
            "text/plain": [
              "<Figure size 640x480 with 1 Axes>"
            ],
            "image/png": "[encoded data removed]"
          },
          "metadata": {}
        }
      ]
    }
  ]
}